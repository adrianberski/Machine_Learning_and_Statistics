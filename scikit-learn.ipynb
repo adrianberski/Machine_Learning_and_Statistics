{
 "cells": [
  {
   "cell_type": "markdown",
   "metadata": {},
   "source": [
    "<h1>Project 2021 for the Machine Learning and Statistics (Scikit-Learn).<h1>\n",
    "\n",
    "\n",
    "\n",
    "\n",
    "\n",
    "\n"
   ]
  },
  {
   "cell_type": "markdown",
   "metadata": {},
   "source": [
    "##  Description.\n",
    "\n",
    "\n",
    "The purpose of this assessment is to ensure that you have achieved the learning outcomes\n",
    "of the module while also providing you with sample work to show prospective\n",
    "employers. The overall assessment is split into the three components as detailed below.\n",
    "The percentages beside each bullet point indicate the weighting of that item in your\n",
    "overall mark. Note, however, that the examiners’ overall impression of your submission\n",
    "may override the individual weightings where deemed appropriate.\n",
    "1. A clear and concise overview of the scikit-learn Python library.\n",
    "2. Demonstrations of three interesting scikit-learn algorithms.\n",
    "3. Appropriate plots and other visualisations to enhance your notebook for viewers."
   ]
  },
  {
   "cell_type": "markdown",
   "metadata": {},
   "source": [
    "##  Introductory remarks.\n",
    "Machine learning can be interpreted as a field of science that enables computers to learn without the need for explicit programming. Scikit-Learn is a library that is designed for solving the analytical problem. The great advantage of scikit-Learn is that we can use them by learning about data science without having to do so first knowledge about it. The scikit-learn package comes with many matrix decomposition functions (https://scikit-learn.org/ stable / modules / classes.html - module-sklearn.decomposition), including the algorithm, among others principal component analysis (PCA algorithm). \n",
    "\n",
    "\n",
    "The scikit-Learn library is very accessible yet includes many efficient machine learning algorithms; for this reason, it is perfectly suited for people starting their adventure with machine learning. scikit-learn is perhaps the most popular Python package\n",
    "designed for machine learning. It contains many models implemented in this project. \n",
    "\n",
    "\n",
    "<b> The structure of the Scikit-Learn module. </b>\n",
    "\n",
    "Uniformity - all objects use a uniform, simple interface:\n",
    "- Estimators (estimating functions). Any object capable of estimating certain parameters based on the data set it is called the estimator (e.g. imputer class is a function estimator). The estimation operation itself is performed by the fit () method, and its only the parameter is a dataset (or two datasets in the case of algorithms supervised learning; the second set contains labels). Any other influencing parameters on the course of the estimation operation are considered as hyperparameters (e.g. the strategy parameter of the imputer class) they must be designated as instance variables (generally in the form of a parameter constructor). \n",
    "- Transformers (transforming or transforming functions). Some estimators (like for example imputer class) are also able to transform the data set; they are called transformers. Again, their interface is not complicated: the transformation processb is performed;; with the transform () method, and its parameter is modified data set. As a result, the transformed dataset is returned. Operation transformation depends primarily on the learned parameters (as in the case of class imputer). All transformers also include a fit_transform () complex method, which is equivalent to calling fit () followed by transform () (sometimes this the complex method is optimized and works much faster than its components).\n",
    "- Predictors (prognostic functions). Certain estimators are able to predict the results of na the basis of the data set; these are the so-called predictors. For example, the LinearRegression model from the previous chapter is a predictor: we used it to predict satisfaction life, knowing the value of GDP per capita of a given country. The prognostic function includes a method predict () that accepts new datasets and returns a set of associated predictions. In addition, there is also the score () method that measures the quality of forecasts on the basis of test set. \n",
    "\n",
    "Inspection - All hyperparameters of estimators are directly accessible via public\n",
    "instance variables (e.g., imputer.strategy); also all learned parameters of the evaluation function are available through these types of variables marked with an underscore at the end (e.g. imputer.statistics_).\n",
    "- Non-proliferation of classes. The datasets are not presented in a self-prepared form classes, but as NumPy or SciPy sparse matrices. In turn, the hyperparameters are standard Python strings or numeric values.\n",
    "- Composition. Existing components are used as often as possible. For example,\n",
    "it is easy to create a Pipeline estimator from a self-selected sequence of transform functions finished with the last estimation function, as we will see soon.\n",
    "- Reasonable defaults. Scikit-Learn provides thoughtful defaults for most parameters, so we can easily create a basic working system.\n",
    "\n",
    "\n",
    "\n",
    "\n",
    "\n",
    "\n"
   ]
  },
  {
   "cell_type": "markdown",
   "metadata": {},
   "source": [
    "## 1. Linear Regression.\n",
    "I am using a linear regression as a first scikit-learn algorithm. I am demonstrating data and findings from my previous project (I was an author and developer) for the Fundamentals of Data Analysis Module, where I worked on linear regression. \n",
    "\n",
    "\n",
    "As always, I need to start by cleaning and organizing the data.\n",
    "I have passive data collection - existed."
   ]
  },
  {
   "cell_type": "code",
   "execution_count": 243,
   "metadata": {},
   "outputs": [
    {
     "name": "stdout",
     "output_type": "stream",
     "text": [
      "    speed  power\n",
      "0   0.000  0.000\n",
      "1   0.125  0.000\n",
      "2   0.150  0.000\n",
      "3   0.225  0.000\n",
      "4   0.275  0.000\n",
      "5   0.325  4.331\n",
      "6   0.400  5.186\n",
      "7   0.450  3.826\n",
      "8   0.501  1.048\n",
      "9   0.526  5.553\n",
      "10  0.551  6.498\n",
      "11  0.576  5.241\n",
      "12  0.626  4.220\n",
      "13  0.676  7.974\n",
      "14  0.701  9.746\n"
     ]
    }
   ],
   "source": [
    "#importing relevant libraries \n",
    "import numpy as np #for mathematical operations\n",
    "import pandas as pd #used for data manipulation\n",
    "import matplotlib.pyplot as plt #used to plot my data\n",
    "import seaborn as sns #for better visualization \n",
    "\n",
    "# Import the CSV file and create the DataFrames:\n",
    "powerproduction = pd.read_csv(\"powerproduction.csv\")\n",
    "\n",
    "# becasue of Panda library the set can be transform to a table (showing 15records):\n",
    "\n",
    "print(powerproduction.head(15))\n"
   ]
  },
  {
   "cell_type": "markdown",
   "metadata": {},
   "source": [
    "Explore the data - as the 2nd part of analysis. \n",
    "\n",
    "\n",
    "Statistical description can be based on the Python NumPy, which provides descriptive statistical calculation. For example, my code defines the mean of a dataset."
   ]
  },
  {
   "cell_type": "code",
   "execution_count": 244,
   "metadata": {},
   "outputs": [
    {
     "data": {
      "text/plain": [
       "speed    12.590398\n",
       "power    48.014584\n",
       "dtype: float64"
      ]
     },
     "execution_count": 244,
     "metadata": {},
     "output_type": "execute_result"
    }
   ],
   "source": [
    "np.mean(powerproduction)"
   ]
  },
  {
   "cell_type": "markdown",
   "metadata": {},
   "source": [
    "The Data visualization is another way to provide a sense of a data set. In this case I shall be able to present patterns, relationships and also outliers. The code below shows the speed. I am presenting that by a histogram to visualize the distribution of all the speeds and powers in my dataset."
   ]
  },
  {
   "cell_type": "code",
   "execution_count": 245,
   "metadata": {},
   "outputs": [
    {
     "name": "stderr",
     "output_type": "stream",
     "text": [
      "C:\\Users\\adria\\anaconda3\\lib\\site-packages\\seaborn\\distributions.py:2619: FutureWarning: `distplot` is a deprecated function and will be removed in a future version. Please adapt your code to use either `displot` (a figure-level function with similar flexibility) or `histplot` (an axes-level function for histograms).\n",
      "  warnings.warn(msg, FutureWarning)\n"
     ]
    },
    {
     "data": {
      "image/png": "[encoded data removed]",
      "text/plain": [
       "<Figure size 432x288 with 1 Axes>"
      ]
     },
     "metadata": {
      "needs_background": "light"
     },
     "output_type": "display_data"
    }
   ],
   "source": [
    "speed = powerproduction[\"speed\"]\n",
    "sns.distplot(speed)\n",
    " \n",
    "plt.show() "
   ]
  },
  {
   "cell_type": "code",
   "execution_count": 246,
   "metadata": {},
   "outputs": [
    {
     "name": "stderr",
     "output_type": "stream",
     "text": [
      "C:\\Users\\adria\\anaconda3\\lib\\site-packages\\seaborn\\distributions.py:2619: FutureWarning: `distplot` is a deprecated function and will be removed in a future version. Please adapt your code to use either `displot` (a figure-level function with similar flexibility) or `histplot` (an axes-level function for histograms).\n",
      "  warnings.warn(msg, FutureWarning)\n"
     ]
    },
    {
     "data": {
      "image/png": "[encoded data removed]",
      "text/plain": [
       "<Figure size 432x288 with 1 Axes>"
      ]
     },
     "metadata": {
      "needs_background": "light"
     },
     "output_type": "display_data"
    }
   ],
   "source": [
    "power = powerproduction[\"power\"]\n",
    "sns.distplot(power)\n",
    " \n",
    "plt.show() "
   ]
  },
  {
   "cell_type": "markdown",
   "metadata": {},
   "source": [
    "Checking requirement for linear regression - in order to use the scikit-learn module.\n",
    "\n",
    "To check if linear regression is appropriate for my data, I need to plot it and verify that it is in line with the linear trend. I do this with the following code:"
   ]
  },
  {
   "cell_type": "code",
   "execution_count": 247,
   "metadata": {},
   "outputs": [
    {
     "data": {
      "text/plain": [
       "Text(0, 0.5, 'Power')"
      ]
     },
     "execution_count": 247,
     "metadata": {},
     "output_type": "execute_result"
    },
    {
     "data": {
      "image/png": "[encoded data removed]",
      "text/plain": [
       "<Figure size 432x288 with 1 Axes>"
      ]
     },
     "metadata": {
      "needs_background": "light"
     },
     "output_type": "display_data"
    }
   ],
   "source": [
    "# Set x to my input speed\n",
    "x = powerproduction[\"speed\"]\n",
    "# Set y to my output power, this is the value I trying to predict\n",
    "y = powerproduction[\"power\"]\n",
    "# Plot Power against Speed\n",
    "plt.scatter(x, y)\n",
    "# Add labels to the graph\n",
    "plt.xlabel('Speed')\n",
    "plt.ylabel('Power')\n",
    "\n"
   ]
  },
  {
   "cell_type": "markdown",
   "metadata": {},
   "source": [
    "The regression is in line with the linear trend."
   ]
  },
  {
   "cell_type": "markdown",
   "metadata": {},
   "source": [
    "Implementing a simple linear regression.\n",
    "\n",
    "I am going to use a function which will make all mathematical calculation. In this state of affairs, I am going to use the function from the scikit-learn library. \n"
   ]
  },
  {
   "cell_type": "code",
   "execution_count": 248,
   "metadata": {},
   "outputs": [
    {
     "data": {
      "text/plain": [
       "[<matplotlib.lines.Line2D at 0x2477ed75c10>]"
      ]
     },
     "execution_count": 248,
     "metadata": {},
     "output_type": "execute_result"
    },
    {
     "data": {
      "image/png": "[encoded data removed]",
      "text/plain": [
       "<Figure size 432x288 with 1 Axes>"
      ]
     },
     "metadata": {
      "needs_background": "light"
     },
     "output_type": "display_data"
    }
   ],
   "source": [
    "from sklearn.linear_model import LinearRegression\n",
    "# I am setting x and y values to the appropriate variables, I do reshape x to turn it from a 1D array to a 2D array, ready to be used in my model.\n",
    "x = powerproduction[\"speed\"].values.reshape(-1,1)\n",
    "y = powerproduction[\"power\"]\n",
    "# Defining the variable lr_model as my linear regression model\n",
    "lr_model = LinearRegression()\n",
    "# Fitting my linear regression model to my dataset, I am basically finding θ₀ and θ₁ in our regression line: ŷ = θ₀ + θ₁𝑥. Gradient descent and other methods are used for this.\n",
    "lr_model.fit(x, y)\n",
    "# Finding predicted values for all x values by applying ŷᵢ = θ₀ + θ₁𝑥ᵢ\n",
    "y_pred = lr_model.predict(x)\n",
    "plt.scatter(x, y)\n",
    "plt.xlabel(\"speed\")\n",
    "plt.ylabel(\"power\")\n",
    "# Here we are plotting our regression line ŷ = θ₀ + θ₁𝑥\n",
    "plt.plot(x, y_pred)"
   ]
  },
  {
   "cell_type": "code",
   "execution_count": 249,
   "metadata": {},
   "outputs": [
    {
     "data": {
      "text/plain": [
       "(-13.899902630519634, array([4.91759567]))"
      ]
     },
     "execution_count": 249,
     "metadata": {},
     "output_type": "execute_result"
    }
   ],
   "source": [
    "theta_0 = lr_model.intercept_\n",
    "theta_1 = lr_model.coef_\n",
    "theta_0, theta_1"
   ]
  },
  {
   "cell_type": "markdown",
   "metadata": {},
   "source": [
    "Regression model and using it to forecast.\n",
    "\n",
    "The purpose of calculating my regression line is primarily to use it for forecasting. In that case, if I got a new wind speed value, I can expect new value of the power. \n",
    "So, this will help me to accurately predict wind turbine power output from wind speed values. \n",
    "The example below illustrates above statement: \n"
   ]
  },
  {
   "cell_type": "code",
   "execution_count": 250,
   "metadata": {},
   "outputs": [
    {
     "data": {
      "text/plain": [
       "array([212.30949798])"
      ]
     },
     "execution_count": 250,
     "metadata": {},
     "output_type": "execute_result"
    }
   ],
   "source": [
    "# input 46-new wind speed value, into my regression model \"np.array([58]).reshape(1, 1)\" reshapes 58 into a 2D array. This is done as my model only accepts inputs of this form.\n",
    "y_pred = lr_model.predict(np.array([46]).reshape(1, 1))\n",
    "y_pred #which prints the value of the wind turbine power output below: "
   ]
  },
  {
   "cell_type": "markdown",
   "metadata": {},
   "source": [
    "## 2. Decision trees.\n",
    "Like support vector machines, decision trees are versatile machine learning algorithms, used for both classification and regression tasks, and even for multi-output operations. We use them to obtain powerful models that are capable of learning against complex data sets. Decision trees are also components of random forests, which are currently one of the best machine learning algorithms. \n",
    "I would like to present the concept of decision trees, by developing simple example.\n"
   ]
  },
  {
   "cell_type": "code",
   "execution_count": 253,
   "metadata": {},
   "outputs": [
    {
     "data": {
      "text/plain": [
       "DecisionTreeClassifier(criterion='entropy')"
      ]
     },
     "execution_count": 253,
     "metadata": {},
     "output_type": "execute_result"
    }
   ],
   "source": [
    "import pandas as pd\n",
    "diffrent = ['magazine', 'magazine', 'magazine', 'magazine', 'programme', 'magazine', 'programme', 'programme', 'magazine', \n",
    "         'magazine', 'programme', 'programme', 'programme', 'magazine', 'programme', 'programme', 'programme', 'magazine', \n",
    "         'magazine', 'programme']\n",
    "drinks = ['whiskey', 'vodka', 'vodka', 'whiskey', 'vodka', 'vodka', 'whiskey', 'vodka', 'vodka', 'whiskey', 'whiskey', \n",
    "         'whiskey', 'vodka', 'vodka', 'whiskey', 'vodka', 'whiskey', 'whiskey', 'whiskey', 'vodka']\n",
    "outside = ['arts', 'arts', 'stupis', 'stupis', 'arts', 'stupis', 'stupis', 'arts', 'stupis', 'stupis', 'stupis', 'arts', 'arts',\n",
    "           'arts', 'stupis', 'stupis', 'arts', 'arts', 'arts', 'arts']\n",
    "aftertime = ['Yeah', 'Nah', 'Yeah', 'Yeah', 'Nah', 'Yeah', 'Nah', 'Yeah', 'Nah', 'Yeah', 'Nah', 'Nah', 'Nah', 'Yeah', 'Nah', \n",
    "           'Nah', 'Yeah', 'Nah', 'Nah', 'Yeah']\n",
    "subs = pd.DataFrame({\"diffrent\": diffrent, \"drinks\": drinks, \"outside\": outside, \"aftertime\":aftertime})\n",
    "\n",
    "subs[\"diffrent\"], diffrent_kody = pd.factorize(subs[\"diffrent\"])\n",
    "subs[\"drinks\"], drinks_kody = pd.factorize(subs[\"drinks\"])\n",
    "subs[\"outside\"], outside_kody = pd.factorize(subs[\"outside\"])\n",
    "subs[\"aftertime\"], aftertime_kody = pd.factorize(subs[\"aftertime\"])\n",
    "\n",
    "X = subs.drop([\"aftertime\"], axis = 1)\n",
    "y = subs[\"aftertime\"]\n",
    "\n",
    "from sklearn.tree import DecisionTreeClassifier\n",
    "klasyfikator = DecisionTreeClassifier(criterion = \"entropy\")\n",
    "klasyfikator.fit(X = X, y = y)\n",
    "\n"
   ]
  },
  {
   "cell_type": "markdown",
   "metadata": {},
   "source": [
    "For decision trees, entropy will be a measure of the mixing of the dependent trait. So it will tell us how unclean our collection is."
   ]
  },
  {
   "cell_type": "markdown",
   "metadata": {},
   "source": [
    "Now, I want to visualize the learned decision tree by first using the export_graphviz () method and /or DecisionTreeRegressor, to create a graph definition file: "
   ]
  },
  {
   "cell_type": "code",
   "execution_count": 254,
   "metadata": {},
   "outputs": [],
   "source": [
    "from sklearn import datasets\n",
    "from sklearn.tree import DecisionTreeRegressor\n",
    "from sklearn import tree\n",
    "\n",
    "regr = DecisionTreeRegressor(max_depth=3, random_state=1234)\n",
    "model = regr.fit(X, y)"
   ]
  },
  {
   "cell_type": "markdown",
   "metadata": {},
   "source": [
    "## 3. Decision trees.\n",
    "Like support vector machines, decision trees are versatile machine learning algorithms, used for both classification and regression tasks, and even for multi-output operations. We use them to obtain powerful models that are capable of learning against complex data sets. Decision trees are also components of random forests, which are currently one of the best machine learning algorithms. \n",
    "I would like to present the concept of decision trees, by developing simple example.\n"
   ]
  },
  {
   "cell_type": "markdown",
   "metadata": {},
   "source": [
    "# List of sources.\n",
    "\n",
    "***\n",
    "\n",
    "<b> 1) DOCUMENTS AND REPORTS.</b>\n",
    "\n",
    "Datasets: \n",
    "<http://www.cs.toronto.edu/~delve/data/>\n",
    "\n",
    "GitHub Inc., “GitHub,”\n",
    "<https://github.com/>\n",
    "\n",
    "GMIT, “Quality Assurance Framework,”\n",
    "<https://www.gmit.ie/general/quality-assurance-framework>\n",
    "\n",
    "Matplotlib: Python plotting documentation:\n",
    "<https://matplotlib.org/>\n",
    "\n",
    "NumPy Documentation:\n",
    "<https://numpy.org/doc/stable/reference/random/>\n",
    "\n",
    "NumPy v1.19 Manual:\n",
    "<https://numpy.org/doc/stable/index.html>\n",
    "\n",
    "NumPy in general:\n",
    "<https://numpy.org/>\n",
    "\n",
    "pandas documentation:\n",
    "<https://pandas.pydata.org/docs/index.html>\n",
    "\n",
    "scikit-learn documentation:\n",
    "<https://scikit-learn.org/stable>\n",
    "\n",
    "The Python Standard Library\n",
    "<https://docs.python.org/3/library/index.html>\n",
    "\n",
    "UCI Machine Learning Repository:\n",
    "<http://archive.ics.uci.edu/ml/datasets/Iris>\n",
    "\n",
    "\n",
    "\n",
    "\n",
    "***\n",
    "\n",
    "\n",
    "<b> 2) ARTICLES, MONOGRAPHS, STUDIES.</b>\n",
    "\n",
    "Encyclopaedia Britannica: \n",
    "<http://www.britannica.com/>\n",
    "\n",
    "Galli S., Python Feature Engineering Cookbook,  Birmingham 2020. \n",
    "\n",
    "Grus J., Data science od podstaw. Analiza danych w Pythonie. Wydanie II, Warszawa 2019. \n",
    "\n",
    "McLoughlin I., “Fundamentals of Data Analysis - full course”\n",
    "<https://learnonline.gmit.ie/course/view.php?id=1120>\n",
    "\n",
    "McLoughlin I., “Using git for assessments”\n",
    "<https://github.com/ianmcloughlin/using-git-for-assessments/>\n",
    "\n",
    "McLoughlin I., “Jupyter Teaching Notebooks,”\n",
    "<https://github.com/ianmcloughlin/jupyter-teaching-notebooks/blob/master/fitting-lines.ipynb>\n",
    "\n",
    "Schweppes J., How to Think Write and Cite – key skills for Irish Law, Dublin 2011.\n",
    "\n",
    "Waugh S., Extending and benchmarking Cascade-Correlation, Tasmania 1995.\n",
    "\n",
    "VanderPlas J., A Whirlwind Tour of Python, Dublin 2016.\n",
    "\n",
    "VanderPlas J., Python Data Science Handbook: Essential Tools for Working with Data, Dublin 2016.\n",
    "\n",
    "\n",
    "***\n",
    "\n",
    "\n",
    "<b>INTERNET RESOURCES. </b>\n",
    "\n",
    "<https://www.w3schools.com/python/numpy_random.asp>\n",
    "\n",
    "<https://www.geeksforgeeks.org/numpy-random-rand-python/>\n",
    "\n",
    "<https://docs.scipy.org/doc/numpy-1.15.0/reference/routines.random.html>\n",
    "\n",
    "<https://www.markdownguide.org/getting-started/>\n",
    "\n",
    "<https://medium.com/@ingeh/markdown-for-jupyter-notebooks-cheatsheet-386c05aeebed>\n",
    "\n",
    "<https://github.com/>\n",
    "\n",
    "<https://en.wikipedia.org/wiki/Triangular_distribution>\n",
    "\n",
    "<https://gitter.im/GMIT-Python-Learners-2019/community>\n",
    "\n",
    "<https://docs.python.org/3/tutorial/>\n",
    "\n",
    "<https://leanpub.com/pyprog/read>\n",
    "\n",
    "<https://www.codecademy.com/courses/data-visualization-python/lessons/matplotlib-i/exercises/introduction-matplotlib-i>\n",
    "\n",
    "<http://www.cs.nott.ac.uk/~pszgmh/counting.pdf>\n",
    "\n",
    "<https://simplemaps.com/data/us-cities>\n",
    "\n",
    "<https://jupyter-notebook.readthedocs.io/en/stable/examples/Notebook/Working%20With%20Markdown%20Cells.html>\n",
    "\n",
    "<https://medium.com/@ingeh/markdown-for-jupyter-notebooks-cheatsheet-386c05aeebed#:~:text=Bullets%3A%20Use%20the%20dash%20sign,Numbered%20lists%3A%20Start%20with%201.>\n",
    "\n",
    "<https://www.codecademy.com/paths/>\n",
    "\n",
    "<https://www.codecademy.com/articles/how-to-use-jupyter-notebooks-py3>\n",
    "\n",
    "<https://simplemaps.com/data/canada-cities>\n",
    "\n",
    "<https://www.codecademy.com/learn/learn-python-3/modules/learn-python3-loops/cheatsheet>\n",
    "\n",
    "<https://pymotw.com/2/collections/counter.html>\n",
    "\n",
    "<https://www.tutorialspoint.com/python3/dictionary_get.htm>\n",
    "\n",
    "<https://jupyter.readthedocs.io/en/latest/>\n",
    "\n",
    "<https://ichi.pro/pl/prosta-regresja-liniowa-w-pythonie-275871775585618>\n",
    "\n",
    "<https://stackoverflow.com/questions/3496518/using-a-dictionary-to-count-the-items-in-a-list>\n",
    "\n",
    "<https://www.kdnuggets.com/2020/09/simpsons-paradox.html>\n",
    "\n",
    "\n",
    "\n"
   ]
  }
 ],
 "metadata": {
  "kernelspec": {
   "display_name": "Python 3",
   "language": "python",
   "name": "python3"
  },
  "language_info": {
   "codemirror_mode": {
    "name": "ipython",
    "version": 3
   },
   "file_extension": ".py",
   "mimetype": "text/x-python",
   "name": "python",
   "nbconvert_exporter": "python",
   "pygments_lexer": "ipython3",
   "version": "3.9.7"
  }
 },
 "nbformat": 4,
 "nbformat_minor": 4
}
